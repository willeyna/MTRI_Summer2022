{
 "cells": [
  {
   "cell_type": "code",
   "execution_count": 1,
   "metadata": {},
   "outputs": [],
   "source": [
    "import numpy as np"
   ]
  },
  {
   "cell_type": "code",
   "execution_count": 126,
   "metadata": {},
   "outputs": [],
   "source": [
    "def rankWithTies(A, method, *args):\n",
    "    #stores calls to built in methods\n",
    "    DEFAULT_METHODS = {'min': lambda rMax, nMatch : rMax - (nMatch-1),\n",
    "                       'max': lambda rMax, nMatch : rMax,\n",
    "                       'random': lambda rMax, nMatch : np.random.permutation(nMatch) + (rMax - (nMatch - 1))\n",
    "                      }\n",
    "    \n",
    "    #if no dimension specified, assume ranking along last dimension of A\n",
    "    if not len(args):\n",
    "        args += (-1,)\n",
    "        \n",
    "    dim = args[0]\n",
    "        \n",
    "    I = np.argsort(A, *args)\n",
    "    #avoids sorting twice\n",
    "    B = np.take_along_axis(A, I, dim)\n",
    "    \n",
    "    #initialization of inverse index array\n",
    "    R = np.zeros_like(A)\n",
    "\n",
    "    N = A.shape[dim]\n",
    "\n",
    "    #reshapes the arange(N) array to be along the axis to insert in R \n",
    "    indexer = tuple([None if i!=dim else Ellipsis for i in range(A.ndim)])\n",
    "    \n",
    "    #np take_along_index is the correct np function to map (A,I) to B and (B,R) to A\n",
    "    np.put_along_axis(R, I, np.arange(N, dtype = float)[indexer], axis=dim)\n",
    "    \n",
    "    if method == 'stable':\n",
    "        return R, B, I\n",
    "    \n",
    "    elif method in DEFAULT_METHODS.keys():\n",
    "        fun = DEFAULT_METHODS[method]\n",
    "        \n",
    "    elif type(method) == 'function':\n",
    "        fun = method\n",
    "        \n",
    "    else: \n",
    "        raise ValueError(f\"Invalid method type: {method}\")\n",
    "    \n",
    "    #move axis to loop through to end for ease of iteration\n",
    "    B_shift = np.moveaxis(A, dim, -1)\n",
    "    \n",
    "    for index in np.ndindex(A_shift.shape[:-1]):\n",
    "        R[index] = replaceDuplicateRanks(B[index], I[index], R[index], fun)\n",
    "\n",
    "    return R, B, I"
   ]
  },
  {
   "cell_type": "code",
   "execution_count": 127,
   "metadata": {},
   "outputs": [],
   "source": [
    "def replaceDuplicateRanks(B, I, R, fun):\n",
    "    \n",
    "    #arrays with the indices the unique values start/stop at and their distances\n",
    "    uniq, uniq_ind, uniq_count = np.unique(B, return_index = True, return_counts = True)\n",
    "    \n",
    "    #makes sure the to check for the last value being a duplicate\n",
    "    uniq_ind = np.append(uniq_ind, len(B))\n",
    "    \n",
    "    for i in range(len(uniq_ind)-1):\n",
    "        if uniq_count[i] != 1:\n",
    "            #sets the rank to be a function of the index it last appears in in the sorted array\n",
    "            \n",
    "            #temp comment: uniq_ind[i+1]-1 s.t. input is the last index the val appears in\n",
    "            #    but uniq_count[i]-1 s.t. the input is one Minus the # repeats (dist btwn max and min)\n",
    "            #    does this need changing?\n",
    "            R[I[uniq_ind[i]:uniq_ind[i+1]]] = fun(uniq_ind[i+1]-1, uniq_count[i])\n",
    "        \n",
    "    return R"
   ]
  },
  {
   "cell_type": "code",
   "execution_count": 158,
   "metadata": {},
   "outputs": [
    {
     "data": {
      "text/plain": [
       "array([[[0, 2],\n",
       "        [2, 2],\n",
       "        [0, 2]],\n",
       "\n",
       "       [[2, 3],\n",
       "        [2, 1],\n",
       "        [3, 1]],\n",
       "\n",
       "       [[2, 3],\n",
       "        [2, 1],\n",
       "        [2, 1]]])"
      ]
     },
     "execution_count": 158,
     "metadata": {},
     "output_type": "execute_result"
    }
   ],
   "source": [
    "A = np.random.randint(0,4,[3,3,2])\n",
    "A"
   ]
  },
  {
   "cell_type": "code",
   "execution_count": 134,
   "metadata": {},
   "outputs": [
    {
     "data": {
      "text/plain": [
       "True"
      ]
     },
     "execution_count": 134,
     "metadata": {},
     "output_type": "execute_result"
    }
   ],
   "source": [
    "C = np.take_along_axis(A, I, -1)\n",
    "np.all(C == B)"
   ]
  },
  {
   "cell_type": "code",
   "execution_count": 133,
   "metadata": {},
   "outputs": [
    {
     "data": {
      "text/plain": [
       "True"
      ]
     },
     "execution_count": 133,
     "metadata": {},
     "output_type": "execute_result"
    }
   ],
   "source": [
    "D = np.take_along_axis(B, R, -1)\n",
    "np.all(D == A)"
   ]
  },
  {
   "cell_type": "code",
   "execution_count": 160,
   "metadata": {
    "scrolled": false
   },
   "outputs": [
    {
     "ename": "IndexError",
     "evalue": "index 2 is out of bounds for axis 0 with size 2",
     "output_type": "error",
     "traceback": [
      "\u001b[0;31m---------------------------------------------------------------------------\u001b[0m",
      "\u001b[0;31mIndexError\u001b[0m                                Traceback (most recent call last)",
      "\u001b[0;32m<ipython-input-160-762eadc2c28a>\u001b[0m in \u001b[0;36m<module>\u001b[0;34m\u001b[0m\n\u001b[0;32m----> 1\u001b[0;31m \u001b[0mR\u001b[0m\u001b[0;34m,\u001b[0m \u001b[0mB\u001b[0m\u001b[0;34m,\u001b[0m \u001b[0mI\u001b[0m \u001b[0;34m=\u001b[0m \u001b[0mrankWithTies\u001b[0m\u001b[0;34m(\u001b[0m\u001b[0mA\u001b[0m\u001b[0;34m,\u001b[0m \u001b[0;34m'random'\u001b[0m\u001b[0;34m,\u001b[0m\u001b[0;36m0\u001b[0m\u001b[0;34m)\u001b[0m\u001b[0;34m\u001b[0m\u001b[0;34m\u001b[0m\u001b[0m\n\u001b[0m\u001b[1;32m      2\u001b[0m \u001b[0;31m# print(R)\u001b[0m\u001b[0;34m\u001b[0m\u001b[0;34m\u001b[0m\u001b[0;34m\u001b[0m\u001b[0m\n\u001b[1;32m      3\u001b[0m \u001b[0;31m# print(B)\u001b[0m\u001b[0;34m\u001b[0m\u001b[0;34m\u001b[0m\u001b[0;34m\u001b[0m\u001b[0m\n\u001b[1;32m      4\u001b[0m \u001b[0;31m# print(I)\u001b[0m\u001b[0;34m\u001b[0m\u001b[0;34m\u001b[0m\u001b[0;34m\u001b[0m\u001b[0m\n",
      "\u001b[0;32m<ipython-input-126-17eba58ad7cd>\u001b[0m in \u001b[0;36mrankWithTies\u001b[0;34m(A, method, *args)\u001b[0m\n\u001b[1;32m     43\u001b[0m \u001b[0;34m\u001b[0m\u001b[0m\n\u001b[1;32m     44\u001b[0m     \u001b[0;32mfor\u001b[0m \u001b[0mindex\u001b[0m \u001b[0;32min\u001b[0m \u001b[0mnp\u001b[0m\u001b[0;34m.\u001b[0m\u001b[0mndindex\u001b[0m\u001b[0;34m(\u001b[0m\u001b[0mA_shift\u001b[0m\u001b[0;34m.\u001b[0m\u001b[0mshape\u001b[0m\u001b[0;34m[\u001b[0m\u001b[0;34m:\u001b[0m\u001b[0;34m-\u001b[0m\u001b[0;36m1\u001b[0m\u001b[0;34m]\u001b[0m\u001b[0;34m)\u001b[0m\u001b[0;34m:\u001b[0m\u001b[0;34m\u001b[0m\u001b[0;34m\u001b[0m\u001b[0m\n\u001b[0;32m---> 45\u001b[0;31m         \u001b[0mR\u001b[0m\u001b[0;34m[\u001b[0m\u001b[0mindex\u001b[0m\u001b[0;34m]\u001b[0m \u001b[0;34m=\u001b[0m \u001b[0mreplaceDuplicateRanks\u001b[0m\u001b[0;34m(\u001b[0m\u001b[0mB\u001b[0m\u001b[0;34m[\u001b[0m\u001b[0mindex\u001b[0m\u001b[0;34m]\u001b[0m\u001b[0;34m,\u001b[0m \u001b[0mI\u001b[0m\u001b[0;34m[\u001b[0m\u001b[0mindex\u001b[0m\u001b[0;34m]\u001b[0m\u001b[0;34m,\u001b[0m \u001b[0mR\u001b[0m\u001b[0;34m[\u001b[0m\u001b[0mindex\u001b[0m\u001b[0;34m]\u001b[0m\u001b[0;34m,\u001b[0m \u001b[0mfun\u001b[0m\u001b[0;34m)\u001b[0m\u001b[0;34m\u001b[0m\u001b[0;34m\u001b[0m\u001b[0m\n\u001b[0m\u001b[1;32m     46\u001b[0m \u001b[0;34m\u001b[0m\u001b[0m\n\u001b[1;32m     47\u001b[0m     \u001b[0;32mreturn\u001b[0m \u001b[0mR\u001b[0m\u001b[0;34m,\u001b[0m \u001b[0mB\u001b[0m\u001b[0;34m,\u001b[0m \u001b[0mI\u001b[0m\u001b[0;34m\u001b[0m\u001b[0;34m\u001b[0m\u001b[0m\n",
      "\u001b[0;32m<ipython-input-127-66ed8bf726dc>\u001b[0m in \u001b[0;36mreplaceDuplicateRanks\u001b[0;34m(B, I, R, fun)\u001b[0m\n\u001b[1;32m     14\u001b[0m             \u001b[0;31m#    but uniq_count[i]-1 s.t. the input is one Minus the # repeats (dist btwn max and min)\u001b[0m\u001b[0;34m\u001b[0m\u001b[0;34m\u001b[0m\u001b[0;34m\u001b[0m\u001b[0m\n\u001b[1;32m     15\u001b[0m             \u001b[0;31m#    does this need changing?\u001b[0m\u001b[0;34m\u001b[0m\u001b[0;34m\u001b[0m\u001b[0;34m\u001b[0m\u001b[0m\n\u001b[0;32m---> 16\u001b[0;31m             \u001b[0mR\u001b[0m\u001b[0;34m[\u001b[0m\u001b[0mI\u001b[0m\u001b[0;34m[\u001b[0m\u001b[0muniq_ind\u001b[0m\u001b[0;34m[\u001b[0m\u001b[0mi\u001b[0m\u001b[0;34m]\u001b[0m\u001b[0;34m:\u001b[0m\u001b[0muniq_ind\u001b[0m\u001b[0;34m[\u001b[0m\u001b[0mi\u001b[0m\u001b[0;34m+\u001b[0m\u001b[0;36m1\u001b[0m\u001b[0;34m]\u001b[0m\u001b[0;34m]\u001b[0m\u001b[0;34m]\u001b[0m \u001b[0;34m=\u001b[0m \u001b[0mfun\u001b[0m\u001b[0;34m(\u001b[0m\u001b[0muniq_ind\u001b[0m\u001b[0;34m[\u001b[0m\u001b[0mi\u001b[0m\u001b[0;34m+\u001b[0m\u001b[0;36m1\u001b[0m\u001b[0;34m]\u001b[0m\u001b[0;34m-\u001b[0m\u001b[0;36m1\u001b[0m\u001b[0;34m,\u001b[0m \u001b[0muniq_count\u001b[0m\u001b[0;34m[\u001b[0m\u001b[0mi\u001b[0m\u001b[0;34m]\u001b[0m\u001b[0;34m)\u001b[0m\u001b[0;34m\u001b[0m\u001b[0;34m\u001b[0m\u001b[0m\n\u001b[0m\u001b[1;32m     17\u001b[0m \u001b[0;34m\u001b[0m\u001b[0m\n\u001b[1;32m     18\u001b[0m     \u001b[0;32mreturn\u001b[0m \u001b[0mR\u001b[0m\u001b[0;34m\u001b[0m\u001b[0;34m\u001b[0m\u001b[0m\n",
      "\u001b[0;31mIndexError\u001b[0m: index 2 is out of bounds for axis 0 with size 2"
     ]
    }
   ],
   "source": [
    "R, B, I = rankWithTies(A, 'random',0)\n",
    "# print(R)\n",
    "# print(B)\n",
    "# print(I)"
   ]
  },
  {
   "cell_type": "code",
   "execution_count": 156,
   "metadata": {},
   "outputs": [
    {
     "data": {
      "text/plain": [
       "array([0, 6, 2, 4, 8, 5, 1, 3, 7, 9])"
      ]
     },
     "execution_count": 156,
     "metadata": {},
     "output_type": "execute_result"
    }
   ],
   "source": [
    "np.take_along_axis(I,R, -1)[5,0,:]"
   ]
  },
  {
   "cell_type": "code",
   "execution_count": null,
   "metadata": {},
   "outputs": [],
   "source": []
  }
 ],
 "metadata": {
  "kernelspec": {
   "display_name": "Python 3",
   "language": "python",
   "name": "python3"
  },
  "language_info": {
   "codemirror_mode": {
    "name": "ipython",
    "version": 3
   },
   "file_extension": ".py",
   "mimetype": "text/x-python",
   "name": "python",
   "nbconvert_exporter": "python",
   "pygments_lexer": "ipython3",
   "version": "3.8.10"
  }
 },
 "nbformat": 4,
 "nbformat_minor": 4
}
