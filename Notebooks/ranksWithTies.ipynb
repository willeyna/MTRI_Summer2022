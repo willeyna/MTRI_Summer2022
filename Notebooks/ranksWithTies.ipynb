{
 "cells": [
  {
   "cell_type": "code",
   "execution_count": 281,
   "metadata": {},
   "outputs": [
    {
     "ename": "ValueError",
     "evalue": "could not convert string to float: 'A'",
     "output_type": "error",
     "traceback": [
      "\u001b[0;31m---------------------------------------------------------------------------\u001b[0m",
      "\u001b[0;31mValueError\u001b[0m                                Traceback (most recent call last)",
      "\u001b[0;32m<ipython-input-281-488c6ea278f7>\u001b[0m in \u001b[0;36m<module>\u001b[0;34m\u001b[0m\n\u001b[0;32m----> 1\u001b[0;31m \u001b[0mnp\u001b[0m\u001b[0;34m.\u001b[0m\u001b[0masarray\u001b[0m\u001b[0;34m(\u001b[0m\u001b[0;34m\"A\"\u001b[0m\u001b[0;34m,\u001b[0m \u001b[0mdtype\u001b[0m \u001b[0;34m=\u001b[0m \u001b[0;34m'double'\u001b[0m\u001b[0;34m)\u001b[0m\u001b[0;34m\u001b[0m\u001b[0;34m\u001b[0m\u001b[0m\n\u001b[0m",
      "\u001b[0;31mValueError\u001b[0m: could not convert string to float: 'A'"
     ]
    }
   ],
   "source": [
    "np.asarray(\"A\", dtype = 'double')"
   ]
  },
  {
   "cell_type": "code",
   "execution_count": 319,
   "metadata": {},
   "outputs": [
    {
     "ename": "ValueError",
     "evalue": "invalid literal for int() with base 10: 'a'",
     "output_type": "error",
     "traceback": [
      "\u001b[0;31m---------------------------------------------------------------------------\u001b[0m",
      "\u001b[0;31mValueError\u001b[0m                                Traceback (most recent call last)",
      "\u001b[0;32m<ipython-input-319-9c35767c9aea>\u001b[0m in \u001b[0;36m<module>\u001b[0;34m\u001b[0m\n\u001b[0;32m----> 1\u001b[0;31m \u001b[0mnp\u001b[0m\u001b[0;34m.\u001b[0m\u001b[0muint8\u001b[0m\u001b[0;34m(\u001b[0m\u001b[0;34m'a'\u001b[0m\u001b[0;34m)\u001b[0m\u001b[0;34m\u001b[0m\u001b[0;34m\u001b[0m\u001b[0m\n\u001b[0m",
      "\u001b[0;31mValueError\u001b[0m: invalid literal for int() with base 10: 'a'"
     ]
    }
   ],
   "source": [
    "np.uint8('a')"
   ]
  },
  {
   "cell_type": "code",
   "execution_count": 329,
   "metadata": {},
   "outputs": [],
   "source": [
    "A = 'fooBar...'"
   ]
  },
  {
   "cell_type": "code",
   "execution_count": 328,
   "metadata": {},
   "outputs": [
    {
     "name": "stdout",
     "output_type": "stream",
     "text": [
      "<U3\n"
     ]
    },
    {
     "name": "stderr",
     "output_type": "stream",
     "text": [
      "<ipython-input-328-af060ef61ac2>:1: DeprecationWarning: `np.str` is a deprecated alias for the builtin `str`. To silence this warning, use `str` by itself. Doing this will not modify any behavior and is safe. If you specifically wanted the numpy scalar type, use `np.str_` here.\n",
      "Deprecated in NumPy 1.20; for more details and guidance: https://numpy.org/devdocs/release/1.20.0-notes.html#deprecations\n",
      "  c = np.array([np.str(ord(char)) for char in A])\n"
     ]
    },
    {
     "data": {
      "text/plain": [
       "array(['102', '111', '111', '66', '97', '114', '46', '46', '46'],\n",
       "      dtype='<U3')"
      ]
     },
     "execution_count": 328,
     "metadata": {},
     "output_type": "execute_result"
    }
   ],
   "source": [
    "c = np.array([np.str(ord(char)) for char in A])\n",
    "print(c.dtype)\n",
    "c"
   ]
  },
  {
   "cell_type": "code",
   "execution_count": 296,
   "metadata": {},
   "outputs": [
    {
     "data": {
      "text/plain": [
       "71"
      ]
     },
     "execution_count": 296,
     "metadata": {},
     "output_type": "execute_result"
    }
   ],
   "source": [
    "np.array([\"GG\"]).view(np.int32)[0]"
   ]
  },
  {
   "cell_type": "code",
   "execution_count": 1,
   "metadata": {},
   "outputs": [],
   "source": [
    "import numpy as np"
   ]
  },
  {
   "cell_type": "code",
   "execution_count": 190,
   "metadata": {},
   "outputs": [],
   "source": [
    "def rankWithTies(A, method, *args):\n",
    "    #stores calls to built in methods\n",
    "    DEFAULT_METHODS = {'min': lambda rMax, nMatch : rMax - (nMatch-1),\n",
    "                       'max': lambda rMax, nMatch : rMax,\n",
    "                       'random': lambda rMax, nMatch : np.random.permutation(nMatch) + (rMax - (nMatch - 1))\n",
    "                      }\n",
    "    \n",
    "    #if no dimension specified, assume ranking along last dimension of A\n",
    "    if not len(args):\n",
    "        args += (-1,)\n",
    "        \n",
    "    dim = args[0]\n",
    "        \n",
    "    I = np.argsort(A, *args)\n",
    "    #avoids sorting twice\n",
    "    B = np.take_along_axis(A, I, dim)\n",
    "    \n",
    "    #initialization of inverse index array\n",
    "    R = np.zeros_like(A)\n",
    "\n",
    "    N = A.shape[dim]\n",
    "\n",
    "    #reshapes the arange(N) array to be along the axis to insert in R \n",
    "    indexer = tuple([None if i!=dim else Ellipsis for i in range(A.ndim)])\n",
    "    \n",
    "    #np take_along_index is the correct np function to map (A,I) to B and (B,R) to A\n",
    "    np.put_along_axis(R, I, np.arange(N, dtype = float)[indexer], axis=dim)\n",
    "    \n",
    "    if method == 'stable':\n",
    "        return R, B, I\n",
    "    \n",
    "    elif method in DEFAULT_METHODS.keys():\n",
    "        fun = DEFAULT_METHODS[method]\n",
    "        \n",
    "    elif type(method) == 'function':\n",
    "        fun = method\n",
    "        \n",
    "    else: \n",
    "        raise ValueError(f\"Invalid method type: {method}\")\n",
    "    \n",
    "    #move axis to loop through to end for ease of iteration\n",
    "    B_shift = np.moveaxis(B, dim, -1)\n",
    "    I_shift = np.moveaxis(I, dim, -1)\n",
    "    R_shift = np.moveaxis(R, dim, -1)\n",
    "\n",
    "    for index in np.ndindex(B_shift.shape[:-1]):\n",
    "        R_shift[index] = replaceDuplicateRanks(B_shift[index], I_shift[index], R_shift[index], fun)\n",
    "\n",
    "    return R, B, I"
   ]
  },
  {
   "cell_type": "code",
   "execution_count": 127,
   "metadata": {},
   "outputs": [],
   "source": [
    "def replaceDuplicateRanks(B, I, R, fun):\n",
    "    \n",
    "    #arrays with the indices the unique values start/stop at and their distances\n",
    "    uniq, uniq_ind, uniq_count = np.unique(B, return_index = True, return_counts = True)\n",
    "    \n",
    "    #makes sure the to check for the last value being a duplicate\n",
    "    uniq_ind = np.append(uniq_ind, len(B))\n",
    "    \n",
    "    for i in range(len(uniq_ind)-1):\n",
    "        if uniq_count[i] != 1:\n",
    "            #sets the rank to be a function of the index it last appears in in the sorted array\n",
    "            \n",
    "            #temp comment: uniq_ind[i+1]-1 s.t. input is the last index the val appears in\n",
    "            #    but uniq_count[i]-1 s.t. the input is one Minus the # repeats (dist btwn max and min)\n",
    "            #    does this need changing?\n",
    "            R[I[uniq_ind[i]:uniq_ind[i+1]]] = fun(uniq_ind[i+1]-1, uniq_count[i])\n",
    "        \n",
    "    return R"
   ]
  },
  {
   "cell_type": "code",
   "execution_count": 320,
   "metadata": {},
   "outputs": [
    {
     "data": {
      "text/plain": [
       "array([[[2, 2, 3, 1, 0, 1, 0, 0, 2, 3],\n",
       "        [0, 3, 0, 0, 2, 0, 2, 2, 2, 0],\n",
       "        [3, 1, 1, 3, 2, 1, 2, 1, 1, 1],\n",
       "        [2, 3, 1, 1, 1, 2, 1, 0, 0, 0],\n",
       "        [1, 3, 3, 1, 1, 3, 0, 3, 1, 1],\n",
       "        [1, 0, 2, 3, 3, 1, 2, 1, 1, 3],\n",
       "        [0, 0, 3, 2, 0, 3, 2, 1, 2, 1],\n",
       "        [1, 2, 0, 0, 3, 0, 2, 3, 1, 1],\n",
       "        [2, 2, 1, 1, 0, 0, 3, 3, 3, 2],\n",
       "        [0, 0, 2, 0, 3, 2, 3, 0, 0, 3]],\n",
       "\n",
       "       [[1, 1, 1, 3, 2, 2, 1, 1, 1, 1],\n",
       "        [3, 3, 3, 3, 3, 2, 3, 0, 3, 0],\n",
       "        [1, 0, 0, 0, 2, 1, 0, 0, 1, 3],\n",
       "        [0, 3, 2, 1, 2, 3, 2, 0, 3, 2],\n",
       "        [3, 3, 3, 0, 0, 2, 1, 3, 1, 1],\n",
       "        [0, 2, 2, 0, 0, 3, 2, 3, 1, 2],\n",
       "        [2, 0, 0, 0, 1, 0, 0, 1, 2, 1],\n",
       "        [0, 1, 2, 1, 2, 0, 1, 3, 3, 3],\n",
       "        [0, 2, 3, 3, 3, 1, 1, 0, 1, 1],\n",
       "        [2, 3, 3, 2, 3, 0, 0, 3, 3, 0]],\n",
       "\n",
       "       [[3, 3, 0, 1, 3, 0, 1, 0, 3, 3],\n",
       "        [2, 1, 1, 1, 2, 1, 0, 2, 0, 1],\n",
       "        [1, 1, 0, 0, 0, 3, 0, 0, 3, 1],\n",
       "        [0, 0, 2, 2, 2, 0, 3, 3, 0, 2],\n",
       "        [0, 0, 2, 3, 1, 3, 2, 3, 1, 0],\n",
       "        [0, 0, 0, 3, 0, 0, 3, 1, 0, 1],\n",
       "        [1, 2, 2, 1, 3, 2, 3, 0, 1, 0],\n",
       "        [2, 3, 0, 1, 2, 2, 0, 1, 0, 0],\n",
       "        [1, 3, 2, 1, 2, 2, 2, 1, 1, 0],\n",
       "        [1, 3, 0, 1, 1, 0, 2, 3, 3, 1]],\n",
       "\n",
       "       [[1, 2, 2, 3, 2, 2, 0, 2, 2, 1],\n",
       "        [2, 3, 0, 3, 0, 2, 0, 1, 3, 3],\n",
       "        [0, 3, 3, 2, 0, 3, 3, 0, 1, 2],\n",
       "        [3, 3, 3, 1, 1, 3, 1, 1, 1, 0],\n",
       "        [0, 2, 1, 2, 3, 1, 1, 3, 2, 0],\n",
       "        [3, 2, 3, 3, 1, 0, 3, 1, 2, 2],\n",
       "        [3, 0, 2, 2, 3, 2, 2, 1, 1, 1],\n",
       "        [2, 0, 3, 3, 2, 0, 0, 3, 2, 1],\n",
       "        [2, 2, 0, 1, 3, 0, 0, 1, 3, 0],\n",
       "        [3, 0, 2, 1, 0, 0, 0, 3, 3, 3]],\n",
       "\n",
       "       [[0, 1, 2, 3, 1, 1, 3, 0, 0, 1],\n",
       "        [3, 1, 0, 1, 2, 1, 2, 2, 1, 2],\n",
       "        [3, 1, 1, 3, 2, 3, 2, 0, 3, 2],\n",
       "        [2, 3, 3, 2, 3, 0, 1, 0, 3, 1],\n",
       "        [0, 1, 0, 2, 0, 2, 0, 3, 2, 2],\n",
       "        [1, 2, 0, 1, 2, 2, 0, 2, 3, 1],\n",
       "        [2, 0, 3, 0, 0, 2, 2, 0, 1, 3],\n",
       "        [3, 2, 0, 2, 3, 0, 3, 2, 2, 2],\n",
       "        [1, 2, 2, 3, 2, 0, 3, 3, 0, 0],\n",
       "        [1, 1, 1, 1, 2, 3, 2, 2, 3, 0]],\n",
       "\n",
       "       [[2, 0, 1, 1, 3, 2, 0, 1, 1, 2],\n",
       "        [1, 3, 2, 3, 3, 3, 0, 0, 0, 2],\n",
       "        [2, 2, 2, 0, 3, 3, 2, 3, 1, 2],\n",
       "        [0, 2, 1, 0, 0, 1, 3, 0, 3, 3],\n",
       "        [3, 3, 2, 1, 3, 3, 0, 0, 3, 2],\n",
       "        [2, 3, 3, 2, 1, 2, 1, 1, 0, 2],\n",
       "        [0, 3, 3, 2, 2, 1, 2, 2, 1, 0],\n",
       "        [0, 0, 2, 3, 0, 1, 0, 2, 1, 3],\n",
       "        [2, 0, 0, 2, 3, 0, 0, 3, 1, 1],\n",
       "        [3, 1, 2, 0, 1, 0, 1, 0, 0, 0]],\n",
       "\n",
       "       [[2, 3, 1, 2, 2, 2, 0, 3, 0, 0],\n",
       "        [1, 1, 1, 3, 1, 3, 3, 1, 3, 1],\n",
       "        [1, 0, 2, 2, 2, 1, 2, 1, 3, 0],\n",
       "        [1, 0, 3, 0, 0, 3, 2, 0, 2, 3],\n",
       "        [0, 3, 3, 3, 1, 0, 3, 2, 3, 2],\n",
       "        [3, 3, 1, 3, 1, 0, 0, 2, 1, 0],\n",
       "        [3, 1, 1, 1, 1, 1, 1, 3, 1, 0],\n",
       "        [2, 1, 2, 3, 3, 3, 2, 2, 2, 0],\n",
       "        [3, 3, 3, 3, 2, 1, 0, 3, 0, 3],\n",
       "        [2, 3, 2, 0, 0, 1, 2, 1, 0, 1]],\n",
       "\n",
       "       [[3, 3, 3, 0, 0, 1, 0, 1, 3, 1],\n",
       "        [1, 2, 2, 2, 0, 2, 0, 2, 1, 1],\n",
       "        [2, 1, 2, 0, 2, 0, 1, 3, 3, 3],\n",
       "        [2, 2, 2, 2, 1, 1, 0, 0, 0, 2],\n",
       "        [2, 3, 0, 0, 2, 2, 1, 0, 2, 0],\n",
       "        [3, 2, 3, 2, 2, 0, 1, 2, 3, 0],\n",
       "        [1, 1, 0, 1, 3, 2, 1, 2, 0, 0],\n",
       "        [2, 2, 3, 3, 1, 1, 0, 2, 0, 1],\n",
       "        [1, 0, 3, 0, 1, 2, 3, 2, 2, 3],\n",
       "        [0, 3, 0, 2, 3, 2, 1, 0, 0, 1]],\n",
       "\n",
       "       [[3, 2, 2, 2, 3, 1, 1, 2, 3, 0],\n",
       "        [3, 2, 2, 2, 3, 1, 1, 3, 1, 0],\n",
       "        [0, 0, 1, 1, 3, 3, 2, 2, 0, 2],\n",
       "        [2, 2, 3, 0, 1, 3, 0, 0, 1, 1],\n",
       "        [1, 3, 0, 3, 2, 3, 0, 0, 3, 3],\n",
       "        [1, 2, 0, 0, 0, 0, 0, 2, 0, 1],\n",
       "        [1, 0, 1, 0, 3, 3, 2, 0, 1, 0],\n",
       "        [0, 2, 0, 0, 2, 3, 3, 3, 2, 1],\n",
       "        [3, 3, 1, 1, 0, 1, 0, 1, 2, 1],\n",
       "        [1, 2, 1, 3, 0, 3, 0, 1, 1, 1]],\n",
       "\n",
       "       [[0, 1, 0, 3, 1, 0, 0, 3, 3, 2],\n",
       "        [0, 0, 0, 1, 0, 1, 1, 0, 2, 2],\n",
       "        [0, 1, 1, 3, 0, 3, 3, 1, 0, 1],\n",
       "        [1, 2, 3, 0, 0, 2, 2, 3, 3, 0],\n",
       "        [3, 1, 3, 1, 2, 3, 3, 1, 1, 2],\n",
       "        [0, 3, 1, 0, 0, 1, 3, 2, 1, 0],\n",
       "        [2, 1, 2, 3, 0, 2, 2, 3, 0, 2],\n",
       "        [2, 3, 0, 2, 2, 2, 0, 3, 0, 3],\n",
       "        [1, 1, 3, 2, 0, 3, 2, 0, 1, 3],\n",
       "        [1, 1, 3, 0, 1, 2, 3, 2, 3, 3]]])"
      ]
     },
     "execution_count": 320,
     "metadata": {},
     "output_type": "execute_result"
    }
   ],
   "source": [
    "A = np.random.randint(0,4,[10,10,10])\n",
    "A"
   ]
  },
  {
   "cell_type": "code",
   "execution_count": 230,
   "metadata": {},
   "outputs": [
    {
     "data": {
      "text/plain": [
       "True"
      ]
     },
     "execution_count": 230,
     "metadata": {},
     "output_type": "execute_result"
    }
   ],
   "source": [
    "C = np.take_along_axis(A, I, dim)\n",
    "np.all(C == B)"
   ]
  },
  {
   "cell_type": "code",
   "execution_count": 231,
   "metadata": {
    "scrolled": true
   },
   "outputs": [
    {
     "data": {
      "text/plain": [
       "True"
      ]
     },
     "execution_count": 231,
     "metadata": {},
     "output_type": "execute_result"
    }
   ],
   "source": [
    "D = np.take_along_axis(B, R, dim)\n",
    "np.all(D == A)"
   ]
  },
  {
   "cell_type": "code",
   "execution_count": 337,
   "metadata": {},
   "outputs": [
    {
     "ename": "IndexError",
     "evalue": "arrays used as indices must be of integer (or boolean) type",
     "output_type": "error",
     "traceback": [
      "\u001b[0;31m---------------------------------------------------------------------------\u001b[0m",
      "\u001b[0;31mIndexError\u001b[0m                                Traceback (most recent call last)",
      "\u001b[0;32m<ipython-input-337-71f8f50490c4>\u001b[0m in \u001b[0;36m<module>\u001b[0;34m\u001b[0m\n\u001b[0;32m----> 1\u001b[0;31m \u001b[0mA\u001b[0m\u001b[0;34m[\u001b[0m\u001b[0mrankWithTies\u001b[0m\u001b[0;34m(\u001b[0m\u001b[0mA\u001b[0m\u001b[0;34m,\u001b[0m \u001b[0;34m'min'\u001b[0m\u001b[0;34m,\u001b[0m \u001b[0;36m0\u001b[0m\u001b[0;34m)\u001b[0m\u001b[0;34m[\u001b[0m\u001b[0;36m0\u001b[0m\u001b[0;34m]\u001b[0m\u001b[0;34m]\u001b[0m\u001b[0;34m\u001b[0m\u001b[0;34m\u001b[0m\u001b[0m\n\u001b[0m",
      "\u001b[0;31mIndexError\u001b[0m: arrays used as indices must be of integer (or boolean) type"
     ]
    }
   ],
   "source": [
    "A[rankWithTies(A, 'min', 0)[0]]"
   ]
  },
  {
   "cell_type": "code",
   "execution_count": 352,
   "metadata": {},
   "outputs": [
    {
     "data": {
      "text/plain": [
       "'fooBar'"
      ]
     },
     "execution_count": 352,
     "metadata": {},
     "output_type": "execute_result"
    }
   ],
   "source": [
    "A"
   ]
  },
  {
   "cell_type": "code",
   "execution_count": 365,
   "metadata": {},
   "outputs": [
    {
     "data": {
      "text/plain": [
       "array([[1., 1., 1., 1., 1.]])"
      ]
     },
     "execution_count": 365,
     "metadata": {},
     "output_type": "execute_result"
    }
   ],
   "source": [
    "np.ones([1, 5])"
   ]
  },
  {
   "cell_type": "code",
   "execution_count": 357,
   "metadata": {},
   "outputs": [],
   "source": [
    "assert (B.shape == np.array([1,1,1,6])).all()"
   ]
  },
  {
   "cell_type": "code",
   "execution_count": 349,
   "metadata": {},
   "outputs": [
    {
     "data": {
      "text/plain": [
       "array([[[['f', 'o', 'o', 'B', 'a', 'r']]]], dtype='<U1')"
      ]
     },
     "execution_count": 349,
     "metadata": {},
     "output_type": "execute_result"
    }
   ],
   "source": [
    "A = np/array'fooBar'\n",
    "B = np.array(list(A)).reshape(1,1,1,len(A))\n",
    "B"
   ]
  },
  {
   "cell_type": "code",
   "execution_count": 371,
   "metadata": {},
   "outputs": [
    {
     "name": "stdout",
     "output_type": "stream",
     "text": [
      "9\n",
      "9\n",
      "1\n"
     ]
    },
    {
     "ename": "ValueError",
     "evalue": "cannot reshape array of size 9 into shape (1,1,1)",
     "output_type": "error",
     "traceback": [
      "\u001b[0;31m---------------------------------------------------------------------------\u001b[0m",
      "\u001b[0;31mValueError\u001b[0m                                Traceback (most recent call last)",
      "\u001b[0;32m<ipython-input-371-bdaf888fe605>\u001b[0m in \u001b[0;36m<module>\u001b[0;34m\u001b[0m\n\u001b[1;32m      6\u001b[0m     \u001b[0mprint\u001b[0m\u001b[0;34m(\u001b[0m\u001b[0mlen\u001b[0m\u001b[0;34m(\u001b[0m\u001b[0mA\u001b[0m\u001b[0;34m)\u001b[0m\u001b[0;34m)\u001b[0m\u001b[0;34m\u001b[0m\u001b[0;34m\u001b[0m\u001b[0m\n\u001b[1;32m      7\u001b[0m     \u001b[0maSize\u001b[0m\u001b[0;34m[\u001b[0m\u001b[0mdimInd\u001b[0m\u001b[0;34m]\u001b[0m \u001b[0;34m=\u001b[0m \u001b[0mlen\u001b[0m\u001b[0;34m(\u001b[0m\u001b[0mA\u001b[0m\u001b[0;34m)\u001b[0m\u001b[0;34m\u001b[0m\u001b[0;34m\u001b[0m\u001b[0m\n\u001b[0;32m----> 8\u001b[0;31m     \u001b[0mA\u001b[0m \u001b[0;34m=\u001b[0m \u001b[0mA\u001b[0m\u001b[0;34m.\u001b[0m\u001b[0mreshape\u001b[0m\u001b[0;34m(\u001b[0m\u001b[0maSize\u001b[0m\u001b[0;34m)\u001b[0m\u001b[0;34m\u001b[0m\u001b[0;34m\u001b[0m\u001b[0m\n\u001b[0m",
      "\u001b[0;31mValueError\u001b[0m: cannot reshape array of size 9 into shape (1,1,1)"
     ]
    }
   ],
   "source": [
    "A = np.array(list('fooBar...'))\n",
    "\n",
    "for dimInd in range(0,3):\n",
    "    #reshape A to be along different dimensions\n",
    "    aSize = np.ones(max(2, dimInd+1), dtype = 'int64')\n",
    "    print(len(A))\n",
    "    aSize[dimInd] = len(A)\n",
    "    A = A.reshape(aSize)"
   ]
  },
  {
   "cell_type": "code",
   "execution_count": 394,
   "metadata": {},
   "outputs": [
    {
     "name": "stdout",
     "output_type": "stream",
     "text": [
      "5\n",
      "4\n",
      "3\n",
      "2\n",
      "1\n",
      "0\n"
     ]
    }
   ],
   "source": [
    "for i in np.arange(0, 6)[::-1]:\n",
    "            print(i)"
   ]
  },
  {
   "cell_type": "code",
   "execution_count": 381,
   "metadata": {},
   "outputs": [
    {
     "name": "stdout",
     "output_type": "stream",
     "text": [
      "[0.37454012 0.95071431 0.73199394 0.59865848 0.15601864 0.15599452\n",
      " 0.05808361 0.86617615 0.60111501 0.70807258]\n",
      "[0.37454012 0.95071431 0.73199394 0.59865848 0.15601864 0.15599452\n",
      " 0.05808361 0.86617615 0.60111501 0.70807258]\n"
     ]
    }
   ],
   "source": [
    "np.random.seed(42)\n",
    "print(np.random.uniform(0,1,10))\n",
    "np.random.seed(42)\n",
    "print(np.random.uniform(0,1,10))"
   ]
  },
  {
   "cell_type": "code",
   "execution_count": 274,
   "metadata": {
    "scrolled": false
   },
   "outputs": [
    {
     "name": "stdout",
     "output_type": "stream",
     "text": [
      "[array([3.14159265, 1.        , 1.        , 2.        , 3.        ,\n",
      "       3.        ]), 'min', 0, 'mergesort']\n",
      "Hello there\n",
      "[array([3.14159265, 1.        , 1.        , 2.        , 3.        ,\n",
      "       3.        ]), 'min']\n",
      "Hello there\n",
      "[array([3.14159265, 1.        , 1.        , 2.        , 3.        ,\n",
      "       3.        ]), 'max', 0, 'mergesort']\n",
      "Hello there\n",
      "[array([3.14159265, 1.        , 1.        , 2.        , 3.        ,\n",
      "       3.        ]), 'max']\n",
      "Hello there\n",
      "[array([3.14159265, 1.        , 1.        , 2.        , 3.        ,\n",
      "       3.        ]), 'random', 0, 'mergesort']\n",
      "Hello there\n",
      "[array([3.14159265, 1.        , 1.        , 2.        , 3.        ,\n",
      "       3.        ]), 'random']\n",
      "Hello there\n",
      "[array([3.14159265, 1.        , 1.        , 2.        , 3.        ,\n",
      "       3.        ]), 'stable', 0, 'mergesort']\n",
      "Hello there\n",
      "[array([3.14159265, 1.        , 1.        , 2.        , 3.        ,\n",
      "       3.        ]), 'stable']\n",
      "Hello there\n",
      "[array([3.14159265, 1.        , 1.        , 2.        , 3.        ,\n",
      "       3.        ]), <function <lambda> at 0x7ff4a4031c10>, 0, 'mergesort']\n"
     ]
    },
    {
     "ename": "ValueError",
     "evalue": "Invalid method type: <function <lambda> at 0x7ff4a4031c10>",
     "output_type": "error",
     "traceback": [
      "\u001b[0;31m---------------------------------------------------------------------------\u001b[0m",
      "\u001b[0;31mValueError\u001b[0m                                Traceback (most recent call last)",
      "\u001b[0;32m<ipython-input-274-f85d590e724d>\u001b[0m in \u001b[0;36m<module>\u001b[0;34m\u001b[0m\n\u001b[1;32m      9\u001b[0m             \u001b[0mprint\u001b[0m\u001b[0;34m(\u001b[0m\u001b[0margs\u001b[0m\u001b[0;34m)\u001b[0m\u001b[0;34m\u001b[0m\u001b[0;34m\u001b[0m\u001b[0m\n\u001b[1;32m     10\u001b[0m \u001b[0;34m\u001b[0m\u001b[0m\n\u001b[0;32m---> 11\u001b[0;31m             \u001b[0mR\u001b[0m\u001b[0;34m,\u001b[0m \u001b[0mB\u001b[0m\u001b[0;34m,\u001b[0m \u001b[0mI\u001b[0m \u001b[0;34m=\u001b[0m \u001b[0mrankWithTies\u001b[0m\u001b[0;34m(\u001b[0m\u001b[0;34m*\u001b[0m\u001b[0margs\u001b[0m\u001b[0;34m)\u001b[0m\u001b[0;34m\u001b[0m\u001b[0;34m\u001b[0m\u001b[0m\n\u001b[0m\u001b[1;32m     12\u001b[0m             \u001b[0mprint\u001b[0m\u001b[0;34m(\u001b[0m\u001b[0;34m'Hello there'\u001b[0m\u001b[0;34m)\u001b[0m\u001b[0;34m\u001b[0m\u001b[0;34m\u001b[0m\u001b[0m\n",
      "\u001b[0;32m<ipython-input-190-75c39a67caeb>\u001b[0m in \u001b[0;36mrankWithTies\u001b[0;34m(A, method, *args)\u001b[0m\n\u001b[1;32m     37\u001b[0m \u001b[0;34m\u001b[0m\u001b[0m\n\u001b[1;32m     38\u001b[0m     \u001b[0;32melse\u001b[0m\u001b[0;34m:\u001b[0m\u001b[0;34m\u001b[0m\u001b[0;34m\u001b[0m\u001b[0m\n\u001b[0;32m---> 39\u001b[0;31m         \u001b[0;32mraise\u001b[0m \u001b[0mValueError\u001b[0m\u001b[0;34m(\u001b[0m\u001b[0;34mf\"Invalid method type: {method}\"\u001b[0m\u001b[0;34m)\u001b[0m\u001b[0;34m\u001b[0m\u001b[0;34m\u001b[0m\u001b[0m\n\u001b[0m\u001b[1;32m     40\u001b[0m \u001b[0;34m\u001b[0m\u001b[0m\n\u001b[1;32m     41\u001b[0m     \u001b[0;31m#move axis to loop through to end for ease of iteration\u001b[0m\u001b[0;34m\u001b[0m\u001b[0;34m\u001b[0m\u001b[0;34m\u001b[0m\u001b[0m\n",
      "\u001b[0;31mValueError\u001b[0m: Invalid method type: <function <lambda> at 0x7ff4a4031c10>"
     ]
    }
   ],
   "source": [
    "AList = [np.array([np.pi, 1, 1, 2, 3, 3])]\n",
    "methodList = ['min', 'max', 'random', 'stable', lambda rMax, nMatch : np.arange((rMax-(nMatch-1)), rMax+1)]\n",
    "sortOptsList = [[0, 'mergesort'], []]\n",
    "\n",
    "for A in AList:\n",
    "    for method in methodList:\n",
    "        for opts in sortOptsList:\n",
    "            args = [A, method, *opts]\n",
    "            print(args)\n",
    "            \n",
    "            R, B, I = rankWithTies(*args)\n",
    "            print('Hello there')"
   ]
  },
  {
   "cell_type": "code",
   "execution_count": 278,
   "metadata": {},
   "outputs": [
    {
     "data": {
      "text/plain": [
       "True"
      ]
     },
     "execution_count": 278,
     "metadata": {},
     "output_type": "execute_result"
    }
   ],
   "source": [
    "callable(args[1])"
   ]
  },
  {
   "cell_type": "code",
   "execution_count": 223,
   "metadata": {},
   "outputs": [
    {
     "data": {
      "text/plain": [
       "array([1, 3, 1, 0, 1, 3, 1, 2, 3, 3])"
      ]
     },
     "execution_count": 223,
     "metadata": {},
     "output_type": "execute_result"
    }
   ],
   "source": [
    "A[0,:,0]"
   ]
  },
  {
   "cell_type": "code",
   "execution_count": 224,
   "metadata": {},
   "outputs": [
    {
     "data": {
      "text/plain": [
       "array([1, 6, 2, 0, 3, 7, 4, 5, 8, 9])"
      ]
     },
     "execution_count": 224,
     "metadata": {},
     "output_type": "execute_result"
    }
   ],
   "source": [
    "R[0,:,0]"
   ]
  },
  {
   "cell_type": "code",
   "execution_count": 253,
   "metadata": {},
   "outputs": [
    {
     "ename": "TypeError",
     "evalue": "an integer is required (got type str)",
     "output_type": "error",
     "traceback": [
      "\u001b[0;31m---------------------------------------------------------------------------\u001b[0m",
      "\u001b[0;31mTypeError\u001b[0m                                 Traceback (most recent call last)",
      "\u001b[0;32m<ipython-input-253-ba4420477d08>\u001b[0m in \u001b[0;36m<module>\u001b[0;34m\u001b[0m\n\u001b[0;32m----> 1\u001b[0;31m \u001b[0mnp\u001b[0m\u001b[0;34m.\u001b[0m\u001b[0msort\u001b[0m\u001b[0;34m(\u001b[0m\u001b[0mA\u001b[0m\u001b[0;34m,\u001b[0m \u001b[0;34m'descending'\u001b[0m\u001b[0;34m)\u001b[0m\u001b[0;34m\u001b[0m\u001b[0;34m\u001b[0m\u001b[0m\n\u001b[0m",
      "\u001b[0;32m~/.local/lib/python3.8/site-packages/numpy/core/overrides.py\u001b[0m in \u001b[0;36msort\u001b[0;34m(*args, **kwargs)\u001b[0m\n",
      "\u001b[0;32m~/.local/lib/python3.8/site-packages/numpy/core/fromnumeric.py\u001b[0m in \u001b[0;36msort\u001b[0;34m(a, axis, kind, order)\u001b[0m\n\u001b[1;32m   1002\u001b[0m     \u001b[0;32melse\u001b[0m\u001b[0;34m:\u001b[0m\u001b[0;34m\u001b[0m\u001b[0;34m\u001b[0m\u001b[0m\n\u001b[1;32m   1003\u001b[0m         \u001b[0ma\u001b[0m \u001b[0;34m=\u001b[0m \u001b[0masanyarray\u001b[0m\u001b[0;34m(\u001b[0m\u001b[0ma\u001b[0m\u001b[0;34m)\u001b[0m\u001b[0;34m.\u001b[0m\u001b[0mcopy\u001b[0m\u001b[0;34m(\u001b[0m\u001b[0morder\u001b[0m\u001b[0;34m=\u001b[0m\u001b[0;34m\"K\"\u001b[0m\u001b[0;34m)\u001b[0m\u001b[0;34m\u001b[0m\u001b[0;34m\u001b[0m\u001b[0m\n\u001b[0;32m-> 1004\u001b[0;31m     \u001b[0ma\u001b[0m\u001b[0;34m.\u001b[0m\u001b[0msort\u001b[0m\u001b[0;34m(\u001b[0m\u001b[0maxis\u001b[0m\u001b[0;34m=\u001b[0m\u001b[0maxis\u001b[0m\u001b[0;34m,\u001b[0m \u001b[0mkind\u001b[0m\u001b[0;34m=\u001b[0m\u001b[0mkind\u001b[0m\u001b[0;34m,\u001b[0m \u001b[0morder\u001b[0m\u001b[0;34m=\u001b[0m\u001b[0morder\u001b[0m\u001b[0;34m)\u001b[0m\u001b[0;34m\u001b[0m\u001b[0;34m\u001b[0m\u001b[0m\n\u001b[0m\u001b[1;32m   1005\u001b[0m     \u001b[0;32mreturn\u001b[0m \u001b[0ma\u001b[0m\u001b[0;34m\u001b[0m\u001b[0;34m\u001b[0m\u001b[0m\n\u001b[1;32m   1006\u001b[0m \u001b[0;34m\u001b[0m\u001b[0m\n",
      "\u001b[0;31mTypeError\u001b[0m: an integer is required (got type str)"
     ]
    }
   ],
   "source": [
    "np.sort(A, 'descending')"
   ]
  },
  {
   "cell_type": "code",
   "execution_count": null,
   "metadata": {},
   "outputs": [],
   "source": []
  }
 ],
 "metadata": {
  "kernelspec": {
   "display_name": "Python 3",
   "language": "python",
   "name": "python3"
  },
  "language_info": {
   "codemirror_mode": {
    "name": "ipython",
    "version": 3
   },
   "file_extension": ".py",
   "mimetype": "text/x-python",
   "name": "python",
   "nbconvert_exporter": "python",
   "pygments_lexer": "ipython3",
   "version": "3.8.10"
  }
 },
 "nbformat": 4,
 "nbformat_minor": 4
}
